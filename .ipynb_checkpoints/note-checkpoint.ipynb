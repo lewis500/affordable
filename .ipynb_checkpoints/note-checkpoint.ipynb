{
 "cells": [
  {
   "cell_type": "markdown",
   "metadata": {},
   "source": [
    "#A quick note on \"affordable\" housing"
   ]
  },
  {
   "cell_type": "markdown",
   "metadata": {},
   "source": [
    "These ideas are kind of in my talk at the [North American Regional Science Conference](http://www.narsc.org/newsite/conference/conference-program/) in Portland in November."
   ]
  },
  {
   "cell_type": "markdown",
   "metadata": {},
   "source": [
    "What does *affordable housing* mean in a rigorous way? If there is enough of almost anything, its price will be low. At the same time, most people have an intuition that certain housing units are *inherently* affordable. Is there anything to this? Yes, and it is easy to show with standard economics."
   ]
  },
  {
   "cell_type": "markdown",
   "metadata": {},
   "source": [
    "Consider a city of renters. In equilibrium all renters of a given income $y$ have the same utility $v$. Therefore, renters of classes $i,i+1...$ are identified by tuples from\n",
    "$$\n",
    "\\{...(y_{i},v_{i}),...\\}.\n",
    "$$"
   ]
  },
  {
   "cell_type": "markdown",
   "metadata": {},
   "source": [
    "Renters have Cobb-Douglass preferences\n",
    "\n",
    "$$\n",
    "U(s,z) = s^\\alpha z^\\beta\n",
    "$$\n",
    "\n",
    "where $s$ is 'floorspace' in sq. ft. (or some index of housing quality) and $z$ is non-housing consumption expressed in dollars."
   ]
  },
  {
   "cell_type": "markdown",
   "metadata": {},
   "source": [
    "The budget constraint of a renter of class $i$ is $z=y_i-sp$, where $p$ is the rent of housing *per sq. ft.*. Let's  substitute this for $z$ in the right-hand side utility function and set utility equal to $v_i$ ($i$'s equilibrium utility).\n",
    "\n",
    "$$\n",
    "v_i = s^\\alpha (y_i-sp)^\\beta\n",
    "$$"
   ]
  },
  {
   "cell_type": "markdown",
   "metadata": {},
   "source": [
    "Now isolate $p$ to get get class $i$'s willingness-to-pay per sq. ft. Make that a WTP function\n",
    "\n",
    "$$\n",
    "P_i(s) = \\frac{1}{s} \\cdot \\left(y_i - \\frac{v^{1/\\beta}}{s^{\\alpha/\\beta}} \\right)\n",
    "$$"
   ]
  },
  {
   "cell_type": "markdown",
   "metadata": {},
   "source": [
    "Now let's plot $P_i(s)$, the willingness to pay for an apartment of size $s$, for two different groups."
   ]
  },
  {
   "cell_type": "code",
   "execution_count": 52,
   "metadata": {
    "collapsed": false
   },
   "outputs": [
    {
     "data": {
      "image/png": "[encoded data removed]",
      "text/plain": [
       "<matplotlib.figure.Figure at 0x10a7177d0>"
      ]
     },
     "metadata": {},
     "output_type": "display_data"
    }
   ],
   "source": [
    "import numpy as np\n",
    "import matplotlib.pyplot as plt\n",
    "from __future__ import division\n",
    "%matplotlib inline\n",
    "alpha,beta = 1/3,2/3\n",
    "def _WTP(S,s):\n",
    "    return 1/s*(S.y - S.v**(1/beta) / s**(alpha/beta))\n",
    "_WTP = np.vectorize(_WTP)\n",
    "class P:\n",
    "    def __init__(S,y,v):\n",
    "        S.y,S.v = y,v\n",
    "    \n",
    "    def WTP(S,s):\n",
    "        return WTP(S,s)\n",
    "s_vector = np.linspace(.1,2.5,100) #apartment sizes we are considering\n",
    "low_income = P(3,1.2) #low income person has income 3.1 and utility 1.3\n",
    "high_income = P(6.5,2.7) #high income person has income 6.5 and utility 2.7\n",
    "plt.plot(s_vector,low_income.WTP(s_vector)); plt.plot(s_vector,high_income.WTP(s_vector))\n",
    "plt.ylabel('p ($)'); plt.xlabel('s (sq.ft.)');\n",
    "plt.ylim([0,2.5]); plt.show()"
   ]
  },
  {
   "cell_type": "markdown",
   "metadata": {},
   "source": [
    "Here, the low_income group (in blue) is willing to pay \\$2.4 for a unit of about size .4. The high_income group (in green) will pay \\$2.05 for a unit of size 1.1."
   ]
  },
  {
   "cell_type": "markdown",
   "metadata": {},
   "source": [
    "Suppose there are constant returns to scale in providing sq. ft. For example, if developers have Cobb-Douglass production functions (they have something close to that). \n",
    "\n",
    "In that case, a developer in the free market will supply units at the point where some class's WTP is highest. In this case, they will build the small units and rent them to the low-income group. But if the laws impose a minimum size that is larger than about .7, the  high_income group will occupy the units that get built."
   ]
  },
  {
   "cell_type": "markdown",
   "metadata": {},
   "source": [
    "So there is something to the intuition that there is \"affordable\" and \"luxury\" housing."
   ]
  }
 ],
 "metadata": {
  "kernelspec": {
   "display_name": "Python 2",
   "language": "python",
   "name": "python2"
  },
  "language_info": {
   "codemirror_mode": {
    "name": "ipython",
    "version": 2
   },
   "file_extension": ".py",
   "mimetype": "text/x-python",
   "name": "python",
   "nbconvert_exporter": "python",
   "pygments_lexer": "ipython2",
   "version": "2.7.8"
  }
 },
 "nbformat": 4,
 "nbformat_minor": 0
}
